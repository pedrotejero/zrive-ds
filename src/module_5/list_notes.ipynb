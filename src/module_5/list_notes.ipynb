{
 "cells": [
  {
   "cell_type": "markdown",
   "metadata": {},
   "source": [
    "## Posibles Causas del Overfitting\n",
    "\n",
    "Relacionadas con el modelo:\n",
    "\n",
    "- `n_trees`\n",
    "\n",
    "- `n_estimators`\n",
    "\n",
    "- No me cuadra del todo que en el validation_set para el modelo incluyamos tanto los datos de train como de test\n",
    "\n",
    "- Tampoco me cuadran la función de validation `feval` ni los `callbacks`\n",
    "\n",
    "Relacionadas con el volumen de datos:\n",
    "\n",
    "- Nº de acciones\n",
    "\n",
    "- `n_train_quarters`\n",
    "\n",
    "- Nº de features (145)\n"
   ]
  },
  {
   "cell_type": "markdown",
   "metadata": {},
   "source": [
    "## Data Leakage\n",
    "- Revisar todas las variables del Dataset\n",
    "    - Varias variables definidas que no existen realmente en el dataset o han podido cambiar de nombre. Por lo tanto no tenemos controlado con qué estamos entrenando exactamente y puede haber information leakage\n",
    "\n",
    "- Revisar fechas de inicio y fin en los datos\n",
    "\n",
    "- No podemos predecir en los 4 primeros quarters porque no tienen data de un año anterior por lo tanto `len(train_set) = 0`\n",
    "\n",
    "- Si establecemos `n_train_quarters = x` estaría bien asegurarnos de que todas las `execution_dates` tienen al menos ese número de quarters más un año previo a ellas. Por lo tanto la función que hace el split de los datos no puede coger todos los datos de todo el tiempo de forma sistemática\n",
    "\n",
    "- Tampoco puedo hacer test con las ñultimas fechas porque me falta el valor que tendría el objetivo al año siguiente: `y_true`\n",
    "\n",
    "- No me cuadra del todo que en el validation_set para el modelo incluyamos tanto los datos de train como de test\n",
    "\n",
    "- Tampoco me cuadra que al restar un año pen el tiempo entre test y train para que no haya data leakage se restem 350 días en lugar de 365"
   ]
  },
  {
   "cell_type": "markdown",
   "metadata": {},
   "source": [
    "## Feature Importance\n",
    "\n",
    "- SHAP\n",
    "    - `close_0` está la primera en todos los modelos y mucho más peso que las demás. Si la elimino de primeras sin cambiar nada más disminuyen todavía más las métricas"
   ]
  },
  {
   "cell_type": "markdown",
   "metadata": {},
   "source": []
  }
 ],
 "metadata": {
  "language_info": {
   "name": "python"
  }
 },
 "nbformat": 4,
 "nbformat_minor": 2
}
